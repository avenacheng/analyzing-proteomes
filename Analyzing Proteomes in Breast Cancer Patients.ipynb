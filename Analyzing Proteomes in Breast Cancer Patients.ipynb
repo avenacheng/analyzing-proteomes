{
 "cells": [
  {
   "cell_type": "markdown",
   "metadata": {
    "colab_type": "text",
    "id": "YeOlxJjyotSf"
   },
   "source": [
    "# Analyzing Proteomes in Patients with Breast Cancer\n",
    "\n",
    "_Authors: Elin Chee & Avena Cheng_\n",
    "\n",
    "_Instructor: Jonathon Fischer_\n",
    "\n",
    "_Course: LS88 - Data Science in Genetics and Genomics_"
   ]
  },
  {
   "cell_type": "markdown",
   "metadata": {
    "colab_type": "text",
    "id": "hcNnKxEh1eUx"
   },
   "source": [
    "The goal of our project is to analyze proteomes in patients with breast cancer. In particular, we would like to see if there is some association with specific proteomes and the stages of breast cancer in patients.\n",
    "\n",
    "We analyzed a dataset containing 77 patients, each patient with different stages of cancer. We began by exploring the most common stage type, the ages of the patients, and the genes associated with proteomes. Our dataset contains over 12,000 proteomes, but only 50 types of genes. Thus,though we could not feasibly explore the distributions of each proteome, we still wanted to see how genes were affiliated with the stage.\n",
    "\n",
    "We then performed PCA on our data matrix and plotted the projections of the PC1 and PC2 to see if the projections separated by Stages in any visually distinct way. We then performed a dimension reduction technique, t-SNE, to the principal components to see if it improved the visualization/allowed for greater distinction between the stages of cancer.\n",
    "\n",
    "Even though all of our data was already labeled, we also performed K-means on the data as a fun side experiment to see how it differed with the PCA results from before. \n",
    "\n",
    "Finally, we created different classifiers to try to predict the stage from just the proteomes using random forest and logistic regression. We tried various feature engineering ideas, such as keeping only top features, normalizing, and trying to predict with just the two most common stages."
   ]
  },
  {
   "cell_type": "markdown",
   "metadata": {
    "colab_type": "text",
    "id": "3R3fOkXI5qNa"
   },
   "source": [
    "# Data Loading and Processing"
   ]
  },
  {
   "cell_type": "markdown",
   "metadata": {
    "colab_type": "text",
    "id": "weBQPgzikTWh"
   },
   "source": [
    "## Before we begin:\n",
    "\n",
    "First make sure to upload the three csv files on this link:\n",
    "https://www.kaggle.com/piotrgrabo/breastcancerproteomes\n"
   ]
  },
  {
   "cell_type": "code",
   "execution_count": 0,
   "metadata": {
    "colab": {},
    "colab_type": "code",
    "id": "H098QDfmoqV2"
   },
   "outputs": [],
   "source": [
    "import pandas as pd\n",
    "import numpy as np\n",
    "from sklearn.cluster import KMeans\n",
    "from sklearn import metrics\n",
    "import re\n",
    "from sklearn.preprocessing import Imputer\n",
    "from numpy import random\n",
    "import seaborn as sns\n",
    "import seaborn as sns\n",
    "import matplotlib\n",
    "%matplotlib inline\n",
    "import matplotlib.pyplot as plt\n",
    "import scipy.stats as stats\n",
    "from sklearn.ensemble import RandomForestClassifier\n",
    "from sklearn.model_selection import train_test_split\n",
    "from sklearn.metrics import confusion_matrix\n",
    "from sklearn.preprocessing import StandardScaler\n",
    "from sklearn.decomposition import PCA\n",
    "from sklearn.preprocessing import scale\n",
    "from sklearn.manifold import TSNE"
   ]
  },
  {
   "cell_type": "code",
   "execution_count": 0,
   "metadata": {
    "colab": {},
    "colab_type": "code",
    "id": "j8pxDvz5o1fO"
   },
   "outputs": [],
   "source": [
    "proteomes = pd.read_csv(\"/content/77_cancer_proteomes_CPTAC_itraq.csv\")\n",
    "pam50 = pd.read_csv(\"/content/PAM50_proteins.csv\")\n",
    "breast_cancer = pd.read_csv(\"/content/clinical_data_breast_cancer.csv\")"
   ]
  },
  {
   "cell_type": "code",
   "execution_count": 45,
   "metadata": {
    "colab": {
     "base_uri": "https://localhost:8080/",
     "height": 361
    },
    "colab_type": "code",
    "id": "rft2UTciqrFe",
    "outputId": "711c9df3-1c12-4446-dafb-49963878c06c"
   },
   "outputs": [
    {
     "data": {
      "text/html": [
       "<div>\n",
       "<style scoped>\n",
       "    .dataframe tbody tr th:only-of-type {\n",
       "        vertical-align: middle;\n",
       "    }\n",
       "\n",
       "    .dataframe tbody tr th {\n",
       "        vertical-align: top;\n",
       "    }\n",
       "\n",
       "    .dataframe thead th {\n",
       "        text-align: right;\n",
       "    }\n",
       "</style>\n",
       "<table border=\"1\" class=\"dataframe\">\n",
       "  <thead>\n",
       "    <tr style=\"text-align: right;\">\n",
       "      <th></th>\n",
       "      <th>NP_958782</th>\n",
       "      <th>NP_958785</th>\n",
       "      <th>NP_958786</th>\n",
       "      <th>NP_000436</th>\n",
       "      <th>NP_958781</th>\n",
       "      <th>NP_958780</th>\n",
       "      <th>NP_958783</th>\n",
       "      <th>NP_958784</th>\n",
       "      <th>NP_112598</th>\n",
       "      <th>NP_001611</th>\n",
       "      <th>NP_076965</th>\n",
       "      <th>NP_001367</th>\n",
       "      <th>NP_036222</th>\n",
       "      <th>NP_001138241</th>\n",
       "      <th>NP_001714</th>\n",
       "      <th>NP_002464</th>\n",
       "      <th>NP_001073936</th>\n",
       "      <th>NP_061198</th>\n",
       "      <th>NP_001074248</th>\n",
       "      <th>NP_001074419</th>\n",
       "      <th>NP_056009</th>\n",
       "      <th>NP_036355</th>\n",
       "      <th>NP_001155291</th>\n",
       "      <th>NP_002462</th>\n",
       "      <th>NP_000248</th>\n",
       "      <th>NP_036467</th>\n",
       "      <th>NP_004989</th>\n",
       "      <th>NP_001243024</th>\n",
       "      <th>NP_149043</th>\n",
       "      <th>NP_067047</th>\n",
       "      <th>NP_002461</th>\n",
       "      <th>NP_060003</th>\n",
       "      <th>NP_003793</th>\n",
       "      <th>NP_060004</th>\n",
       "      <th>NP_005954</th>\n",
       "      <th>NP_002463</th>\n",
       "      <th>NP_689914</th>\n",
       "      <th>NP_001242941</th>\n",
       "      <th>NP_060227</th>\n",
       "      <th>NP_055796</th>\n",
       "      <th>...</th>\n",
       "      <th>NP_001164045</th>\n",
       "      <th>NP_001193600</th>\n",
       "      <th>NP_061134</th>\n",
       "      <th>NP_932347</th>\n",
       "      <th>NP_003593</th>\n",
       "      <th>NP_997203</th>\n",
       "      <th>NP_001191293</th>\n",
       "      <th>NP_775791</th>\n",
       "      <th>NP_004065</th>\n",
       "      <th>NP_068752</th>\n",
       "      <th>NP_219494</th>\n",
       "      <th>Gender</th>\n",
       "      <th>Age at Initial Pathologic Diagnosis</th>\n",
       "      <th>ER Status</th>\n",
       "      <th>PR Status</th>\n",
       "      <th>HER2 Final Status</th>\n",
       "      <th>Tumor</th>\n",
       "      <th>Tumor--T1 Coded</th>\n",
       "      <th>Node</th>\n",
       "      <th>Node-Coded</th>\n",
       "      <th>Metastasis</th>\n",
       "      <th>Metastasis-Coded</th>\n",
       "      <th>AJCC Stage</th>\n",
       "      <th>Converted Stage</th>\n",
       "      <th>Survival Data Form</th>\n",
       "      <th>Vital Status</th>\n",
       "      <th>Days to Date of Last Contact</th>\n",
       "      <th>Days to date of Death</th>\n",
       "      <th>OS event</th>\n",
       "      <th>OS Time</th>\n",
       "      <th>PAM50 mRNA</th>\n",
       "      <th>SigClust Unsupervised mRNA</th>\n",
       "      <th>SigClust Intrinsic mRNA</th>\n",
       "      <th>miRNA Clusters</th>\n",
       "      <th>methylation Clusters</th>\n",
       "      <th>RPPA Clusters</th>\n",
       "      <th>CN Clusters</th>\n",
       "      <th>Integrated Clusters (with PAM50)</th>\n",
       "      <th>Integrated Clusters (no exp)</th>\n",
       "      <th>Integrated Clusters (unsup exp)</th>\n",
       "    </tr>\n",
       "  </thead>\n",
       "  <tbody>\n",
       "    <tr>\n",
       "      <th>TCGA-A2-A0CM</th>\n",
       "      <td>0.683404</td>\n",
       "      <td>0.694424</td>\n",
       "      <td>0.698098</td>\n",
       "      <td>0.687077</td>\n",
       "      <td>0.687077</td>\n",
       "      <td>0.698098</td>\n",
       "      <td>0.698098</td>\n",
       "      <td>0.698098</td>\n",
       "      <td>-2.65215</td>\n",
       "      <td>-0.984373</td>\n",
       "      <td>-0.547225</td>\n",
       "      <td>0.654015</td>\n",
       "      <td>-0.672124</td>\n",
       "      <td>-1.43622</td>\n",
       "      <td>-0.150485</td>\n",
       "      <td>-0.308446</td>\n",
       "      <td>0.136049</td>\n",
       "      <td>-1.5905</td>\n",
       "      <td>-0.716207</td>\n",
       "      <td>-0.705186</td>\n",
       "      <td>-1.22315</td>\n",
       "      <td>-1.9101</td>\n",
       "      <td>-1.90275</td>\n",
       "      <td>-1.05417</td>\n",
       "      <td>-1.05417</td>\n",
       "      <td>0.598913</td>\n",
       "      <td>0.867079</td>\n",
       "      <td>-0.701512</td>\n",
       "      <td>1.12423</td>\n",
       "      <td>0.161764</td>\n",
       "      <td>-0.337834</td>\n",
       "      <td>-0.664777</td>\n",
       "      <td>-0.374569</td>\n",
       "      <td>-0.374569</td>\n",
       "      <td>-0.374569</td>\n",
       "      <td>-0.110076</td>\n",
       "      <td>-0.0696675</td>\n",
       "      <td>-0.712533</td>\n",
       "      <td>NaN</td>\n",
       "      <td>-0.172526</td>\n",
       "      <td>...</td>\n",
       "      <td>NaN</td>\n",
       "      <td>NaN</td>\n",
       "      <td>NaN</td>\n",
       "      <td>1.15361</td>\n",
       "      <td>NaN</td>\n",
       "      <td>NaN</td>\n",
       "      <td>NaN</td>\n",
       "      <td>NaN</td>\n",
       "      <td>NaN</td>\n",
       "      <td>NaN</td>\n",
       "      <td>NaN</td>\n",
       "      <td>FEMALE</td>\n",
       "      <td>40</td>\n",
       "      <td>Negative</td>\n",
       "      <td>Negative</td>\n",
       "      <td>Negative</td>\n",
       "      <td>T2</td>\n",
       "      <td>T_Other</td>\n",
       "      <td>N0</td>\n",
       "      <td>Negative</td>\n",
       "      <td>M0</td>\n",
       "      <td>Negative</td>\n",
       "      <td>Stage IIA</td>\n",
       "      <td>Stage IIA</td>\n",
       "      <td>followup</td>\n",
       "      <td>DECEASED</td>\n",
       "      <td>754</td>\n",
       "      <td>754.0</td>\n",
       "      <td>1</td>\n",
       "      <td>754</td>\n",
       "      <td>Basal-like</td>\n",
       "      <td>-12</td>\n",
       "      <td>-13</td>\n",
       "      <td>4</td>\n",
       "      <td>4</td>\n",
       "      <td>Basal</td>\n",
       "      <td>4</td>\n",
       "      <td>2</td>\n",
       "      <td>1</td>\n",
       "      <td>1</td>\n",
       "    </tr>\n",
       "    <tr>\n",
       "      <th>TCGA-A2-A0D2</th>\n",
       "      <td>0.107491</td>\n",
       "      <td>0.104164</td>\n",
       "      <td>0.107491</td>\n",
       "      <td>0.0975117</td>\n",
       "      <td>0.104164</td>\n",
       "      <td>0.104164</td>\n",
       "      <td>0.104164</td>\n",
       "      <td>0.104164</td>\n",
       "      <td>-0.880454</td>\n",
       "      <td>-1.51247</td>\n",
       "      <td>-1.40603</td>\n",
       "      <td>0.0775532</td>\n",
       "      <td>0.493355</td>\n",
       "      <td>-0.594383</td>\n",
       "      <td>-0.00228077</td>\n",
       "      <td>0.932442</td>\n",
       "      <td>-1.59563</td>\n",
       "      <td>-1.2131</td>\n",
       "      <td>-0.295005</td>\n",
       "      <td>-0.295005</td>\n",
       "      <td>0.436806</td>\n",
       "      <td>-0.361534</td>\n",
       "      <td>-0.408103</td>\n",
       "      <td>1.01893</td>\n",
       "      <td>1.16196</td>\n",
       "      <td>1.21851</td>\n",
       "      <td>2.2364</td>\n",
       "      <td>0.689613</td>\n",
       "      <td>1.39149</td>\n",
       "      <td>-3.16237</td>\n",
       "      <td>1.16196</td>\n",
       "      <td>1.305</td>\n",
       "      <td>1.01893</td>\n",
       "      <td>1.16196</td>\n",
       "      <td>1.16196</td>\n",
       "      <td>1.01893</td>\n",
       "      <td>-0.677543</td>\n",
       "      <td>0.686287</td>\n",
       "      <td>-4.07049</td>\n",
       "      <td>-1.20312</td>\n",
       "      <td>...</td>\n",
       "      <td>-5.15822</td>\n",
       "      <td>0.919136</td>\n",
       "      <td>-1.64886</td>\n",
       "      <td>0.832649</td>\n",
       "      <td>NaN</td>\n",
       "      <td>-8.32497</td>\n",
       "      <td>-4.67922</td>\n",
       "      <td>NaN</td>\n",
       "      <td>-1.10665</td>\n",
       "      <td>NaN</td>\n",
       "      <td>-6.94118</td>\n",
       "      <td>FEMALE</td>\n",
       "      <td>45</td>\n",
       "      <td>Negative</td>\n",
       "      <td>Negative</td>\n",
       "      <td>Negative</td>\n",
       "      <td>T2</td>\n",
       "      <td>T_Other</td>\n",
       "      <td>N0</td>\n",
       "      <td>Negative</td>\n",
       "      <td>M0</td>\n",
       "      <td>Negative</td>\n",
       "      <td>Stage IIB</td>\n",
       "      <td>Stage IIA</td>\n",
       "      <td>followup</td>\n",
       "      <td>LIVING</td>\n",
       "      <td>1027</td>\n",
       "      <td>NaN</td>\n",
       "      <td>0</td>\n",
       "      <td>1027</td>\n",
       "      <td>Basal-like</td>\n",
       "      <td>-12</td>\n",
       "      <td>-13</td>\n",
       "      <td>4</td>\n",
       "      <td>5</td>\n",
       "      <td>Basal</td>\n",
       "      <td>3</td>\n",
       "      <td>2</td>\n",
       "      <td>2</td>\n",
       "      <td>2</td>\n",
       "    </tr>\n",
       "    <tr>\n",
       "      <th>TCGA-A2-A0EQ</th>\n",
       "      <td>-0.91267</td>\n",
       "      <td>-0.927979</td>\n",
       "      <td>-0.927979</td>\n",
       "      <td>-0.931806</td>\n",
       "      <td>-0.927979</td>\n",
       "      <td>-0.927979</td>\n",
       "      <td>-0.927979</td>\n",
       "      <td>-0.927979</td>\n",
       "      <td>-3.07115</td>\n",
       "      <td>-2.27894</td>\n",
       "      <td>-2.23684</td>\n",
       "      <td>-0.598849</td>\n",
       "      <td>-1.47143</td>\n",
       "      <td>-1.7508</td>\n",
       "      <td>-2.05697</td>\n",
       "      <td>-1.21501</td>\n",
       "      <td>1.2726</td>\n",
       "      <td>-1.41402</td>\n",
       "      <td>-1.21501</td>\n",
       "      <td>-1.30686</td>\n",
       "      <td>-0.537615</td>\n",
       "      <td>0.974087</td>\n",
       "      <td>0.931989</td>\n",
       "      <td>-1.84265</td>\n",
       "      <td>-1.52501</td>\n",
       "      <td>0.461257</td>\n",
       "      <td>-0.61033</td>\n",
       "      <td>-1.98426</td>\n",
       "      <td>2.38246</td>\n",
       "      <td>0.671747</td>\n",
       "      <td>-1.28773</td>\n",
       "      <td>-1.52501</td>\n",
       "      <td>-1.45229</td>\n",
       "      <td>-1.48673</td>\n",
       "      <td>-1.48673</td>\n",
       "      <td>-1.45229</td>\n",
       "      <td>2.40159</td>\n",
       "      <td>-1.99191</td>\n",
       "      <td>NaN</td>\n",
       "      <td>-0.120462</td>\n",
       "      <td>...</td>\n",
       "      <td>-0.970077</td>\n",
       "      <td>-0.801685</td>\n",
       "      <td>NaN</td>\n",
       "      <td>NaN</td>\n",
       "      <td>3.80231</td>\n",
       "      <td>-6.37393</td>\n",
       "      <td>-1.12316</td>\n",
       "      <td>NaN</td>\n",
       "      <td>NaN</td>\n",
       "      <td>NaN</td>\n",
       "      <td>NaN</td>\n",
       "      <td>FEMALE</td>\n",
       "      <td>64</td>\n",
       "      <td>Negative</td>\n",
       "      <td>Negative</td>\n",
       "      <td>Positive</td>\n",
       "      <td>T2</td>\n",
       "      <td>T_Other</td>\n",
       "      <td>N0</td>\n",
       "      <td>Negative</td>\n",
       "      <td>M0</td>\n",
       "      <td>Negative</td>\n",
       "      <td>Stage IIA</td>\n",
       "      <td>Stage IIA</td>\n",
       "      <td>followup</td>\n",
       "      <td>LIVING</td>\n",
       "      <td>2426</td>\n",
       "      <td>NaN</td>\n",
       "      <td>0</td>\n",
       "      <td>2426</td>\n",
       "      <td>HER2-enriched</td>\n",
       "      <td>-5</td>\n",
       "      <td>-2</td>\n",
       "      <td>5</td>\n",
       "      <td>4</td>\n",
       "      <td>Basal</td>\n",
       "      <td>4</td>\n",
       "      <td>4</td>\n",
       "      <td>1</td>\n",
       "      <td>1</td>\n",
       "    </tr>\n",
       "  </tbody>\n",
       "</table>\n",
       "<p>3 rows × 12582 columns</p>\n",
       "</div>"
      ],
      "text/plain": [
       "             NP_958782  ... Integrated Clusters (unsup exp)\n",
       "TCGA-A2-A0CM  0.683404  ...                               1\n",
       "TCGA-A2-A0D2  0.107491  ...                               2\n",
       "TCGA-A2-A0EQ  -0.91267  ...                               1\n",
       "\n",
       "[3 rows x 12582 columns]"
      ]
     },
     "execution_count": 45,
     "metadata": {
      "tags": []
     },
     "output_type": "execute_result"
    }
   ],
   "source": [
    "### @source: kajot - Breast Cancer Proteomes (Kaggle, cited below)\n",
    "### Set path to the data set\n",
    "dataset_path = \"77_cancer_proteomes_CPTAC_itraq.csv\"\n",
    "clinical_info = \"clinical_data_breast_cancer.csv\"\n",
    "pam50_proteins = \"PAM50_proteins.csv\"\n",
    " \n",
    "## Load data\n",
    "data = pd.read_csv(dataset_path,header=0,index_col=0)\n",
    "clinical = pd.read_csv(clinical_info,header=0,index_col=0)## holds clinical information about each patient/sample\n",
    "pam50 = pd.read_csv(pam50_proteins,header=0)\n",
    " \n",
    "## Drop unused information columns\n",
    "##data.drop(['gene_symbol','gene_name'],axis=1,inplace=True)\n",
    " \n",
    " \n",
    "## Change the protein data sample names to a format matching the clinical data set\n",
    "data.rename(columns=lambda x: \"TCGA-%s\" % (re.split('[_|-|.]',x)[0]) if bool(re.search(\"TCGA\",x)) is True else x,inplace=True)\n",
    " \n",
    "## Transpose data for the clustering algorithm since we want to divide patient samples, not proteins\n",
    "data = data.transpose()\n",
    " \n",
    "## Drop clinical entries for samples not in our protein data set\n",
    "clinical = clinical.loc[[x for x in clinical.index.tolist() if x in data.index],:]\n",
    " \n",
    "## Add clinical meta data to our protein data set, note: all numerical features for analysis start with NP_ or XP_\n",
    "merged = data.merge(clinical,left_index=True,right_index=True)\n",
    " \n",
    "## Change name to make it look nicer in the code!\n",
    "processed = merged\n",
    "processed.head(3)"
   ]
  },
  {
   "cell_type": "markdown",
   "metadata": {
    "colab_type": "text",
    "id": "ccs4HY9kxXTw"
   },
   "source": [
    "# EDAs"
   ]
  },
  {
   "cell_type": "code",
   "execution_count": 46,
   "metadata": {
    "colab": {
     "base_uri": "https://localhost:8080/",
     "height": 904
    },
    "colab_type": "code",
    "id": "wuSQCwOx753X",
    "outputId": "a33fd5bb-26c0-4d4e-c0c6-1ebf3bae3497"
   },
   "outputs": [
    {
     "data": {
      "image/png": "[encoded data removed]",
      "text/plain": [
       "<Figure size 432x288 with 1 Axes>"
      ]
     },
     "metadata": {
      "tags": []
     },
     "output_type": "display_data"
    },
    {
     "data": {
      "image/png": "[encoded data removed]",
      "text/plain": [
       "<Figure size 432x288 with 1 Axes>"
      ]
     },
     "metadata": {
      "tags": []
     },
     "output_type": "display_data"
    },
    {
     "data": {
      "image/png": "[encoded data removed]",
      "text/plain": [
       "<Figure size 432x288 with 1 Axes>"
      ]
     },
     "metadata": {
      "tags": []
     },
     "output_type": "display_data"
    }
   ],
   "source": [
    "stages = processed['AJCC Stage']\n",
    "grouped_by_stage = processed.groupby('AJCC Stage').count()\n",
    "stage_plot = sns.barplot(grouped_by_stage.index, grouped_by_stage.iloc[:, 0])\n",
    "stage_plot.set_xticklabels(rotation=45, labels = grouped_by_stage.index)\n",
    "stage_plot.set_title('Counts of Different Breast Cancer Stages')\n",
    "plt.ylabel('Count')\n",
    "plt.show()\n",
    "\n",
    "#stages = processed['AJCC Stage']\n",
    "#stage_plot = sns.countplot(stages)\n",
    "#stage_plot.set_xticklabels(rotation=45, labels = stages.values)\n",
    "#stage_plot.set_title('Counts of Different Breast Cancer Stages')\n",
    "#plt.show()\n",
    "\n",
    "plt.hist(processed['Age at Initial Pathologic Diagnosis'],bins=20)\n",
    "plt.title('Distribution of Ages')\n",
    "plt.xlabel('Age')\n",
    "plt.show()\n",
    "genes = pam50['Gene Name']\n",
    "gene_plot = sns.countplot(genes)\n",
    "gene_names = [name[:5] for name in genes.values]\n",
    "gene_plot.set_xticklabels(rotation=90, labels = gene_names)\n",
    "gene_plot.set_title('Counts of Different Genes (Names abbreviated)')\n",
    "plt.show()"
   ]
  },
  {
   "cell_type": "markdown",
   "metadata": {
    "colab_type": "text",
    "id": "ZhX2yNMGnqyN"
   },
   "source": [
    "## Visualization via PCA"
   ]
  },
  {
   "cell_type": "code",
   "execution_count": 47,
   "metadata": {
    "colab": {
     "base_uri": "https://localhost:8080/",
     "height": 423
    },
    "colab_type": "code",
    "id": "aaWDPb_Go7QP",
    "outputId": "ba23bdec-7502-4609-b2da-f6297189eaf1"
   },
   "outputs": [
    {
     "data": {
      "text/html": [
       "<div>\n",
       "<style scoped>\n",
       "    .dataframe tbody tr th:only-of-type {\n",
       "        vertical-align: middle;\n",
       "    }\n",
       "\n",
       "    .dataframe tbody tr th {\n",
       "        vertical-align: top;\n",
       "    }\n",
       "\n",
       "    .dataframe thead th {\n",
       "        text-align: right;\n",
       "    }\n",
       "</style>\n",
       "<table border=\"1\" class=\"dataframe\">\n",
       "  <thead>\n",
       "    <tr style=\"text-align: right;\">\n",
       "      <th></th>\n",
       "      <th>NP_958782</th>\n",
       "      <th>NP_958785</th>\n",
       "      <th>NP_958786</th>\n",
       "      <th>NP_000436</th>\n",
       "      <th>NP_958781</th>\n",
       "      <th>NP_958780</th>\n",
       "      <th>NP_958783</th>\n",
       "      <th>NP_958784</th>\n",
       "      <th>NP_112598</th>\n",
       "      <th>NP_001611</th>\n",
       "      <th>NP_076965</th>\n",
       "      <th>NP_001367</th>\n",
       "      <th>NP_036222</th>\n",
       "      <th>NP_001138241</th>\n",
       "      <th>NP_001714</th>\n",
       "      <th>NP_002464</th>\n",
       "      <th>NP_001073936</th>\n",
       "      <th>NP_061198</th>\n",
       "      <th>NP_001074248</th>\n",
       "      <th>NP_001074419</th>\n",
       "      <th>NP_056009</th>\n",
       "      <th>NP_036355</th>\n",
       "      <th>NP_001155291</th>\n",
       "      <th>NP_002462</th>\n",
       "      <th>NP_000248</th>\n",
       "      <th>NP_036467</th>\n",
       "      <th>NP_004989</th>\n",
       "      <th>NP_001243024</th>\n",
       "      <th>NP_149043</th>\n",
       "      <th>NP_067047</th>\n",
       "      <th>NP_002461</th>\n",
       "      <th>NP_060003</th>\n",
       "      <th>NP_003793</th>\n",
       "      <th>NP_060004</th>\n",
       "      <th>NP_005954</th>\n",
       "      <th>NP_002463</th>\n",
       "      <th>NP_689914</th>\n",
       "      <th>NP_001242941</th>\n",
       "      <th>NP_060227</th>\n",
       "      <th>NP_055796</th>\n",
       "      <th>...</th>\n",
       "      <th>NP_061841</th>\n",
       "      <th>NP_001014979</th>\n",
       "      <th>NP_848561</th>\n",
       "      <th>NP_000331</th>\n",
       "      <th>NP_690591</th>\n",
       "      <th>XP_003960234</th>\n",
       "      <th>NP_000237</th>\n",
       "      <th>NP_057387</th>\n",
       "      <th>NP_004187</th>\n",
       "      <th>NP_065087</th>\n",
       "      <th>NP_004953</th>\n",
       "      <th>NP_001034806</th>\n",
       "      <th>NP_065119</th>\n",
       "      <th>NP_110392</th>\n",
       "      <th>NP_620138</th>\n",
       "      <th>NP_062558</th>\n",
       "      <th>NP_001005163</th>\n",
       "      <th>NP_665813</th>\n",
       "      <th>NP_005279</th>\n",
       "      <th>NP_998761</th>\n",
       "      <th>YP_003024032</th>\n",
       "      <th>NP_001165887</th>\n",
       "      <th>NP_001010893</th>\n",
       "      <th>NP_872303</th>\n",
       "      <th>NP_000871</th>\n",
       "      <th>NP_690872</th>\n",
       "      <th>NP_683762</th>\n",
       "      <th>NP_060064</th>\n",
       "      <th>NP_699174</th>\n",
       "      <th>NP_001164045</th>\n",
       "      <th>NP_001193600</th>\n",
       "      <th>NP_061134</th>\n",
       "      <th>NP_932347</th>\n",
       "      <th>NP_003593</th>\n",
       "      <th>NP_997203</th>\n",
       "      <th>NP_001191293</th>\n",
       "      <th>NP_775791</th>\n",
       "      <th>NP_004065</th>\n",
       "      <th>NP_068752</th>\n",
       "      <th>NP_219494</th>\n",
       "    </tr>\n",
       "  </thead>\n",
       "  <tbody>\n",
       "    <tr>\n",
       "      <th>TCGA-A2-A0CM</th>\n",
       "      <td>0.368358</td>\n",
       "      <td>0.371592</td>\n",
       "      <td>0.375784</td>\n",
       "      <td>0.368078</td>\n",
       "      <td>0.363905</td>\n",
       "      <td>0.376081</td>\n",
       "      <td>0.376028</td>\n",
       "      <td>0.375916</td>\n",
       "      <td>-1.145399</td>\n",
       "      <td>-0.939449</td>\n",
       "      <td>-0.505275</td>\n",
       "      <td>0.848353</td>\n",
       "      <td>-0.178706</td>\n",
       "      <td>-1.090303</td>\n",
       "      <td>-0.071109</td>\n",
       "      <td>-0.294353</td>\n",
       "      <td>0.531333</td>\n",
       "      <td>-1.120976</td>\n",
       "      <td>-0.801104</td>\n",
       "      <td>-0.795137</td>\n",
       "      <td>-1.407935</td>\n",
       "      <td>-1.360541</td>\n",
       "      <td>-1.357627</td>\n",
       "      <td>-0.607929</td>\n",
       "      <td>-0.702737</td>\n",
       "      <td>0.424719</td>\n",
       "      <td>0.652892</td>\n",
       "      <td>-0.572461</td>\n",
       "      <td>0.638568</td>\n",
       "      <td>0.260318</td>\n",
       "      <td>-0.296717</td>\n",
       "      <td>-0.468364</td>\n",
       "      <td>-0.349257</td>\n",
       "      <td>-0.373719</td>\n",
       "      <td>-0.303181</td>\n",
       "      <td>-0.118088</td>\n",
       "      <td>0.031997</td>\n",
       "      <td>-0.579807</td>\n",
       "      <td>6.378680e-17</td>\n",
       "      <td>0.287802</td>\n",
       "      <td>...</td>\n",
       "      <td>1.506737e+00</td>\n",
       "      <td>-2.740300e-16</td>\n",
       "      <td>-1.749245e-01</td>\n",
       "      <td>-5.434087e-01</td>\n",
       "      <td>0.000000</td>\n",
       "      <td>3.425549e-01</td>\n",
       "      <td>-1.427425e-15</td>\n",
       "      <td>1.017224</td>\n",
       "      <td>5.417509e-16</td>\n",
       "      <td>1.341857e+00</td>\n",
       "      <td>-4.670450e-02</td>\n",
       "      <td>-4.094964e-16</td>\n",
       "      <td>-2.073946e-17</td>\n",
       "      <td>4.991971e-16</td>\n",
       "      <td>2.514340e-17</td>\n",
       "      <td>-1.451159e+00</td>\n",
       "      <td>-2.177927e-01</td>\n",
       "      <td>-0.978110</td>\n",
       "      <td>1.019981e+00</td>\n",
       "      <td>1.422186e+00</td>\n",
       "      <td>8.763682e-01</td>\n",
       "      <td>-2.148006e-01</td>\n",
       "      <td>-3.007964</td>\n",
       "      <td>2.586001e+00</td>\n",
       "      <td>1.449256e-16</td>\n",
       "      <td>-2.748021e-01</td>\n",
       "      <td>-0.043139</td>\n",
       "      <td>-2.550451e-16</td>\n",
       "      <td>4.936824e-01</td>\n",
       "      <td>8.046422e-16</td>\n",
       "      <td>8.166276e-17</td>\n",
       "      <td>-2.118622e-16</td>\n",
       "      <td>8.943352e-01</td>\n",
       "      <td>-3.254048e-17</td>\n",
       "      <td>0.000000</td>\n",
       "      <td>2.094242e-16</td>\n",
       "      <td>8.643338e-17</td>\n",
       "      <td>4.373183e-16</td>\n",
       "      <td>1.477620e-16</td>\n",
       "      <td>4.359203e-16</td>\n",
       "    </tr>\n",
       "    <tr>\n",
       "      <th>TCGA-A2-A0D2</th>\n",
       "      <td>-0.215506</td>\n",
       "      <td>-0.224805</td>\n",
       "      <td>-0.221047</td>\n",
       "      <td>-0.228601</td>\n",
       "      <td>-0.224678</td>\n",
       "      <td>-0.224303</td>\n",
       "      <td>-0.223710</td>\n",
       "      <td>-0.223774</td>\n",
       "      <td>-0.280952</td>\n",
       "      <td>-1.302269</td>\n",
       "      <td>-1.097561</td>\n",
       "      <td>0.156477</td>\n",
       "      <td>0.943757</td>\n",
       "      <td>-0.426633</td>\n",
       "      <td>0.012710</td>\n",
       "      <td>0.897659</td>\n",
       "      <td>-0.594252</td>\n",
       "      <td>-0.820762</td>\n",
       "      <td>-0.513055</td>\n",
       "      <td>-0.515418</td>\n",
       "      <td>0.013657</td>\n",
       "      <td>-0.209433</td>\n",
       "      <td>-0.245244</td>\n",
       "      <td>0.506271</td>\n",
       "      <td>0.656425</td>\n",
       "      <td>0.887204</td>\n",
       "      <td>1.832524</td>\n",
       "      <td>0.743257</td>\n",
       "      <td>0.833849</td>\n",
       "      <td>-1.364929</td>\n",
       "      <td>0.789184</td>\n",
       "      <td>0.856152</td>\n",
       "      <td>0.684075</td>\n",
       "      <td>0.727119</td>\n",
       "      <td>0.721593</td>\n",
       "      <td>0.644943</td>\n",
       "      <td>-0.554522</td>\n",
       "      <td>0.745384</td>\n",
       "      <td>-1.813522e+00</td>\n",
       "      <td>-0.281274</td>\n",
       "      <td>...</td>\n",
       "      <td>-8.383134e-16</td>\n",
       "      <td>-2.740300e-16</td>\n",
       "      <td>3.938086e-01</td>\n",
       "      <td>1.696540e-17</td>\n",
       "      <td>0.000000</td>\n",
       "      <td>2.099389e+00</td>\n",
       "      <td>-1.427425e-15</td>\n",
       "      <td>-0.519144</td>\n",
       "      <td>5.417509e-16</td>\n",
       "      <td>-9.539148e-01</td>\n",
       "      <td>5.348871e-01</td>\n",
       "      <td>-4.873976e-01</td>\n",
       "      <td>-7.118570e-01</td>\n",
       "      <td>1.330002e+00</td>\n",
       "      <td>2.514340e-17</td>\n",
       "      <td>2.297372e-16</td>\n",
       "      <td>-8.772783e-02</td>\n",
       "      <td>1.979113</td>\n",
       "      <td>-1.743590e+00</td>\n",
       "      <td>-1.385479e-16</td>\n",
       "      <td>-7.198388e-16</td>\n",
       "      <td>7.980281e-01</td>\n",
       "      <td>-0.808721</td>\n",
       "      <td>-1.579467e+00</td>\n",
       "      <td>1.892206e-01</td>\n",
       "      <td>1.185841e+00</td>\n",
       "      <td>-0.189747</td>\n",
       "      <td>-2.550451e-16</td>\n",
       "      <td>-2.321853e-01</td>\n",
       "      <td>-6.073948e-01</td>\n",
       "      <td>7.050756e-01</td>\n",
       "      <td>-7.696804e-01</td>\n",
       "      <td>6.104191e-01</td>\n",
       "      <td>-3.254048e-17</td>\n",
       "      <td>-1.147506</td>\n",
       "      <td>-2.476039e-01</td>\n",
       "      <td>8.643338e-17</td>\n",
       "      <td>-5.130410e-01</td>\n",
       "      <td>1.477620e-16</td>\n",
       "      <td>-1.849179e+00</td>\n",
       "    </tr>\n",
       "    <tr>\n",
       "      <th>TCGA-A2-A0EQ</th>\n",
       "      <td>-1.249753</td>\n",
       "      <td>-1.267682</td>\n",
       "      <td>-1.267428</td>\n",
       "      <td>-1.270337</td>\n",
       "      <td>-1.266861</td>\n",
       "      <td>-1.267655</td>\n",
       "      <td>-1.265941</td>\n",
       "      <td>-1.265923</td>\n",
       "      <td>-1.349839</td>\n",
       "      <td>-1.828856</td>\n",
       "      <td>-1.670547</td>\n",
       "      <td>-0.655346</td>\n",
       "      <td>-0.948506</td>\n",
       "      <td>-1.338312</td>\n",
       "      <td>-1.149342</td>\n",
       "      <td>-1.165211</td>\n",
       "      <td>1.270085</td>\n",
       "      <td>-0.980589</td>\n",
       "      <td>-1.142224</td>\n",
       "      <td>-1.205445</td>\n",
       "      <td>-0.820839</td>\n",
       "      <td>0.783384</td>\n",
       "      <td>0.752112</td>\n",
       "      <td>-1.031705</td>\n",
       "      <td>-0.991501</td>\n",
       "      <td>0.321969</td>\n",
       "      <td>-0.619858</td>\n",
       "      <td>-1.785672</td>\n",
       "      <td>1.557926</td>\n",
       "      <td>0.509660</td>\n",
       "      <td>-0.984468</td>\n",
       "      <td>-1.046798</td>\n",
       "      <td>-1.148428</td>\n",
       "      <td>-1.170521</td>\n",
       "      <td>-1.044928</td>\n",
       "      <td>-1.025217</td>\n",
       "      <td>2.416437</td>\n",
       "      <td>-1.791842</td>\n",
       "      <td>6.378680e-17</td>\n",
       "      <td>0.316552</td>\n",
       "      <td>...</td>\n",
       "      <td>-8.383134e-16</td>\n",
       "      <td>1.165327e+00</td>\n",
       "      <td>-2.206334e-17</td>\n",
       "      <td>-1.704977e+00</td>\n",
       "      <td>0.000000</td>\n",
       "      <td>-7.972643e-16</td>\n",
       "      <td>-1.427425e-15</td>\n",
       "      <td>-0.076015</td>\n",
       "      <td>5.417509e-16</td>\n",
       "      <td>-6.719554e-01</td>\n",
       "      <td>-6.948993e-16</td>\n",
       "      <td>-4.094964e-16</td>\n",
       "      <td>1.432818e+00</td>\n",
       "      <td>4.991971e-16</td>\n",
       "      <td>2.514340e-17</td>\n",
       "      <td>7.258284e-01</td>\n",
       "      <td>7.332961e-16</td>\n",
       "      <td>-0.961258</td>\n",
       "      <td>4.184292e-01</td>\n",
       "      <td>1.449483e+00</td>\n",
       "      <td>-7.198388e-16</td>\n",
       "      <td>-8.142389e-17</td>\n",
       "      <td>1.604210</td>\n",
       "      <td>2.595225e-16</td>\n",
       "      <td>1.449256e-16</td>\n",
       "      <td>-3.742433e-01</td>\n",
       "      <td>-0.115149</td>\n",
       "      <td>-2.550451e-16</td>\n",
       "      <td>1.091660e-17</td>\n",
       "      <td>6.573508e-01</td>\n",
       "      <td>7.219850e-02</td>\n",
       "      <td>-2.118622e-16</td>\n",
       "      <td>7.365536e-17</td>\n",
       "      <td>2.041369e+00</td>\n",
       "      <td>-0.545352</td>\n",
       "      <td>5.908815e-01</td>\n",
       "      <td>8.643338e-17</td>\n",
       "      <td>4.373183e-16</td>\n",
       "      <td>1.477620e-16</td>\n",
       "      <td>4.359203e-16</td>\n",
       "    </tr>\n",
       "    <tr>\n",
       "      <th>TCGA-A2-A0EV</th>\n",
       "      <td>0.134759</td>\n",
       "      <td>0.147452</td>\n",
       "      <td>0.147900</td>\n",
       "      <td>0.136831</td>\n",
       "      <td>0.147331</td>\n",
       "      <td>0.148124</td>\n",
       "      <td>0.148316</td>\n",
       "      <td>0.148223</td>\n",
       "      <td>-0.213822</td>\n",
       "      <td>0.981243</td>\n",
       "      <td>1.221739</td>\n",
       "      <td>-0.233252</td>\n",
       "      <td>-0.516564</td>\n",
       "      <td>-0.044713</td>\n",
       "      <td>0.027853</td>\n",
       "      <td>0.003951</td>\n",
       "      <td>-0.384012</td>\n",
       "      <td>-0.212798</td>\n",
       "      <td>2.532368</td>\n",
       "      <td>2.487017</td>\n",
       "      <td>0.687084</td>\n",
       "      <td>-0.301371</td>\n",
       "      <td>-0.294297</td>\n",
       "      <td>-1.476197</td>\n",
       "      <td>-1.372342</td>\n",
       "      <td>0.589643</td>\n",
       "      <td>0.665296</td>\n",
       "      <td>-0.142741</td>\n",
       "      <td>1.134440</td>\n",
       "      <td>0.100093</td>\n",
       "      <td>-2.313540</td>\n",
       "      <td>-1.816502</td>\n",
       "      <td>-1.747966</td>\n",
       "      <td>-2.018037</td>\n",
       "      <td>-1.833884</td>\n",
       "      <td>-1.847985</td>\n",
       "      <td>-0.495955</td>\n",
       "      <td>-0.138933</td>\n",
       "      <td>4.378389e-01</td>\n",
       "      <td>-0.463232</td>\n",
       "      <td>...</td>\n",
       "      <td>-2.042276e+00</td>\n",
       "      <td>-2.740300e-16</td>\n",
       "      <td>-5.688840e-01</td>\n",
       "      <td>1.696540e-17</td>\n",
       "      <td>0.000000</td>\n",
       "      <td>-7.972643e-16</td>\n",
       "      <td>-2.009378e+00</td>\n",
       "      <td>-0.941058</td>\n",
       "      <td>6.520346e-01</td>\n",
       "      <td>-2.853244e+00</td>\n",
       "      <td>-1.107566e+00</td>\n",
       "      <td>-6.364805e-02</td>\n",
       "      <td>-3.656522e+00</td>\n",
       "      <td>4.991971e-16</td>\n",
       "      <td>2.514340e-17</td>\n",
       "      <td>-2.994467e-02</td>\n",
       "      <td>7.332961e-16</td>\n",
       "      <td>-0.570584</td>\n",
       "      <td>-2.106506e+00</td>\n",
       "      <td>-1.385479e-16</td>\n",
       "      <td>-2.032781e+00</td>\n",
       "      <td>6.282017e-01</td>\n",
       "      <td>-1.149425</td>\n",
       "      <td>2.595225e-16</td>\n",
       "      <td>1.449256e-16</td>\n",
       "      <td>-1.035980e-16</td>\n",
       "      <td>-1.931599</td>\n",
       "      <td>-3.245315e+00</td>\n",
       "      <td>-1.386345e+00</td>\n",
       "      <td>8.046422e-16</td>\n",
       "      <td>-1.459403e+00</td>\n",
       "      <td>-6.000062e-01</td>\n",
       "      <td>7.365536e-17</td>\n",
       "      <td>-4.653996e-01</td>\n",
       "      <td>-2.367709</td>\n",
       "      <td>-1.581828e+00</td>\n",
       "      <td>9.494085e-02</td>\n",
       "      <td>4.373183e-16</td>\n",
       "      <td>1.477620e-16</td>\n",
       "      <td>4.359203e-16</td>\n",
       "    </tr>\n",
       "    <tr>\n",
       "      <th>TCGA-A2-A0EX</th>\n",
       "      <td>0.876990</td>\n",
       "      <td>0.874961</td>\n",
       "      <td>0.871718</td>\n",
       "      <td>0.872118</td>\n",
       "      <td>0.881934</td>\n",
       "      <td>0.872173</td>\n",
       "      <td>0.871587</td>\n",
       "      <td>0.875224</td>\n",
       "      <td>0.659146</td>\n",
       "      <td>1.205767</td>\n",
       "      <td>1.067235</td>\n",
       "      <td>0.287973</td>\n",
       "      <td>-0.193100</td>\n",
       "      <td>0.115523</td>\n",
       "      <td>0.429622</td>\n",
       "      <td>1.107937</td>\n",
       "      <td>0.620614</td>\n",
       "      <td>1.516686</td>\n",
       "      <td>0.396526</td>\n",
       "      <td>0.399267</td>\n",
       "      <td>2.710889</td>\n",
       "      <td>0.162141</td>\n",
       "      <td>0.161442</td>\n",
       "      <td>0.773033</td>\n",
       "      <td>1.022676</td>\n",
       "      <td>0.156548</td>\n",
       "      <td>1.088473</td>\n",
       "      <td>2.766130</td>\n",
       "      <td>0.247173</td>\n",
       "      <td>0.147975</td>\n",
       "      <td>0.871136</td>\n",
       "      <td>1.378490</td>\n",
       "      <td>1.480584</td>\n",
       "      <td>1.324307</td>\n",
       "      <td>1.277518</td>\n",
       "      <td>1.304961</td>\n",
       "      <td>0.971186</td>\n",
       "      <td>2.756993</td>\n",
       "      <td>-4.559349e-01</td>\n",
       "      <td>0.422166</td>\n",
       "      <td>...</td>\n",
       "      <td>-8.679758e-01</td>\n",
       "      <td>1.762045e+00</td>\n",
       "      <td>-2.206334e-17</td>\n",
       "      <td>-8.677423e-01</td>\n",
       "      <td>-1.886988</td>\n",
       "      <td>6.697967e-01</td>\n",
       "      <td>-1.427425e-15</td>\n",
       "      <td>-1.154600</td>\n",
       "      <td>5.417509e-16</td>\n",
       "      <td>-9.391436e-17</td>\n",
       "      <td>-6.948993e-16</td>\n",
       "      <td>-1.702277e-01</td>\n",
       "      <td>1.896356e+00</td>\n",
       "      <td>7.136119e-01</td>\n",
       "      <td>2.514340e-17</td>\n",
       "      <td>6.505545e-01</td>\n",
       "      <td>7.332961e-16</td>\n",
       "      <td>0.201257</td>\n",
       "      <td>-6.509849e-16</td>\n",
       "      <td>-1.385479e-16</td>\n",
       "      <td>-7.198388e-16</td>\n",
       "      <td>2.376842e+00</td>\n",
       "      <td>1.420522</td>\n",
       "      <td>1.734603e+00</td>\n",
       "      <td>2.328261e+00</td>\n",
       "      <td>5.755403e-02</td>\n",
       "      <td>-0.682574</td>\n",
       "      <td>1.729375e+00</td>\n",
       "      <td>1.348611e+00</td>\n",
       "      <td>8.046422e-16</td>\n",
       "      <td>9.008630e-01</td>\n",
       "      <td>-1.122832e+00</td>\n",
       "      <td>6.500536e-01</td>\n",
       "      <td>-3.254048e-17</td>\n",
       "      <td>0.000000</td>\n",
       "      <td>-5.828477e-01</td>\n",
       "      <td>8.643338e-17</td>\n",
       "      <td>-1.123278e+00</td>\n",
       "      <td>1.477620e-16</td>\n",
       "      <td>4.359203e-16</td>\n",
       "    </tr>\n",
       "  </tbody>\n",
       "</table>\n",
       "<p>5 rows × 12553 columns</p>\n",
       "</div>"
      ],
      "text/plain": [
       "              NP_958782  NP_958785  ...     NP_068752     NP_219494\n",
       "TCGA-A2-A0CM   0.368358   0.371592  ...  1.477620e-16  4.359203e-16\n",
       "TCGA-A2-A0D2  -0.215506  -0.224805  ...  1.477620e-16 -1.849179e+00\n",
       "TCGA-A2-A0EQ  -1.249753  -1.267682  ...  1.477620e-16  4.359203e-16\n",
       "TCGA-A2-A0EV   0.134759   0.147452  ...  1.477620e-16  4.359203e-16\n",
       "TCGA-A2-A0EX   0.876990   0.874961  ...  1.477620e-16  4.359203e-16\n",
       "\n",
       "[5 rows x 12553 columns]"
      ]
     },
     "execution_count": 47,
     "metadata": {
      "tags": []
     },
     "output_type": "execute_result"
    }
   ],
   "source": [
    "new_data = processed.iloc[:, :-29]\n",
    "new_data = new_data.fillna(new_data.mean())\n",
    "normed_data = (new_data - np.mean(new_data))/np.std(new_data)\n",
    "normed_data = normed_data.astype('float64')\n",
    "normed_data.head()\n"
   ]
  },
  {
   "cell_type": "code",
   "execution_count": 0,
   "metadata": {
    "colab": {},
    "colab_type": "code",
    "id": "nh90og1Knv1L"
   },
   "outputs": [],
   "source": [
    "# Run the following cell\n",
    "x = StandardScaler().fit_transform(normed_data)\n",
    "pca = PCA(n_components = 80)\n",
    "principalComponents = pca.fit_transform(x)\n"
   ]
  },
  {
   "cell_type": "code",
   "execution_count": 49,
   "metadata": {
    "colab": {
     "base_uri": "https://localhost:8080/",
     "height": 295
    },
    "colab_type": "code",
    "id": "3HQCOkptsdzM",
    "outputId": "2975b403-a931-4fed-f187-54faf6e0ac3d"
   },
   "outputs": [
    {
     "data": {
      "image/png": "[encoded data removed]",
      "text/plain": [
       "<Figure size 432x288 with 1 Axes>"
      ]
     },
     "metadata": {
      "tags": []
     },
     "output_type": "display_data"
    }
   ],
   "source": [
    "# Plot the projections and see if they separate by stages. \n",
    "legend_label = []\n",
    "for i in np.unique(processed['AJCC Stage']):\n",
    "  plt.scatter(principalComponents[processed['AJCC Stage'] == i,0], principalComponents[processed['AJCC Stage'] == i,1])\n",
    "  legend_label.append(i)\n",
    "\n",
    "plt.legend(legend_label)\n",
    "plt.xlabel('PC 1')\n",
    "plt.ylabel('PC 2')\n",
    "plt.title('PCA, true labels')\n",
    "plt.show()"
   ]
  },
  {
   "cell_type": "markdown",
   "metadata": {
    "colab_type": "text",
    "id": "qN6r7YoE51-Y"
   },
   "source": [
    "## Visualization using t-SNE "
   ]
  },
  {
   "cell_type": "code",
   "execution_count": 0,
   "metadata": {
    "colab": {},
    "colab_type": "code",
    "id": "NLdvXPXSsfTJ"
   },
   "outputs": [],
   "source": [
    "# t-SNE is a non-linear dimenstion reduction method which we apply after the PCA which we performed previously.\n",
    "tsne = TSNE(n_components = 2)\n",
    "X_embedded = tsne.fit_transform(principalComponents)\n"
   ]
  },
  {
   "cell_type": "code",
   "execution_count": 51,
   "metadata": {
    "colab": {
     "base_uri": "https://localhost:8080/",
     "height": 295
    },
    "colab_type": "code",
    "id": "ccOMBTPWsojd",
    "outputId": "e26402e0-1b8e-4175-fdb4-580fb8b15147"
   },
   "outputs": [
    {
     "data": {
      "image/png": "[encoded data removed]",
      "text/plain": [
       "<Figure size 432x288 with 1 Axes>"
      ]
     },
     "metadata": {
      "tags": []
     },
     "output_type": "display_data"
    }
   ],
   "source": [
    "# Now plot the t-SNE embeddings and see what's changed.\n",
    "legend_label = []\n",
    "for i in np.unique(processed['AJCC Stage']):\n",
    "  plt.scatter(X_embedded[processed['AJCC Stage'] == i,0], X_embedded[processed['AJCC Stage'] == i,1])\n",
    "  legend_label.append(i)\n",
    "\n",
    "plt.legend(legend_label)\n",
    "\n",
    "plt.xlabel('PC 1')\n",
    "plt.ylabel('PC 2')\n",
    "plt.title('PCA, true labels after t-SNE')\n",
    "plt.show()"
   ]
  },
  {
   "cell_type": "markdown",
   "metadata": {
    "colab_type": "text",
    "id": "nuUR7SabxeIi"
   },
   "source": [
    "# Cluster Exploration: K-Means"
   ]
  },
  {
   "cell_type": "code",
   "execution_count": 0,
   "metadata": {
    "colab": {},
    "colab_type": "code",
    "id": "N7CsExA8xcM9"
   },
   "outputs": [],
   "source": [
    "kmeans = KMeans(n_clusters=11)\n",
    "kmeans.fit(X_embedded)\n",
    "predictions = kmeans.predict(X_embedded)"
   ]
  },
  {
   "cell_type": "code",
   "execution_count": 53,
   "metadata": {
    "colab": {
     "base_uri": "https://localhost:8080/",
     "height": 295
    },
    "colab_type": "code",
    "id": "kpDHPSisxij_",
    "outputId": "067703c8-3d14-49c2-df02-0320d1794776"
   },
   "outputs": [
    {
     "data": {
      "image/png": "[encoded data removed]",
      "text/plain": [
       "<Figure size 432x288 with 1 Axes>"
      ]
     },
     "metadata": {
      "tags": []
     },
     "output_type": "display_data"
    }
   ],
   "source": [
    "legend_label_1 = []\n",
    "for i in np.arange(11):\n",
    "  plt.scatter(X_embedded[predictions == i,0], X_embedded[predictions == i,1])\n",
    "  legend_label_1.append(np.unique(processed['AJCC Stage'])[i])\n",
    "\n",
    "plt.legend(legend_label_1)\n",
    "plt.xlabel('PC 1')\n",
    "plt.ylabel('PC 2')\n",
    "plt.title('PCA, true labels, K-means')\n",
    "plt.show()"
   ]
  },
  {
   "cell_type": "markdown",
   "metadata": {
    "colab_type": "text",
    "id": "0fKOws1mj-jF"
   },
   "source": [
    "# Splitting Into Train/Test Sets\n",
    "\n",
    "**NOTE: there are NaN values so I inputted them with the mean, but it will take about 3 minutes to run**"
   ]
  },
  {
   "cell_type": "code",
   "execution_count": 0,
   "metadata": {
    "colab": {},
    "colab_type": "code",
    "id": "6rkFugESq31q"
   },
   "outputs": [],
   "source": [
    "# Split into train and test sets\n",
    "features = processed[[col for col in data.columns if col not in clinical.columns]]\n",
    "mean_val = features.mean()\n",
    "features = features.fillna(mean_val)\n",
    "labels = stages\n",
    "#labels = new_processed.index\n"
   ]
  },
  {
   "cell_type": "markdown",
   "metadata": {
    "colab_type": "text",
    "id": "42ZRQOSujlZa"
   },
   "source": [
    "# Random Forest Classifier\n",
    "## Creation and Analysis"
   ]
  },
  {
   "cell_type": "markdown",
   "metadata": {
    "colab_type": "text",
    "id": "M3MLq9YVjuQ6"
   },
   "source": [
    "#### Using Original Data"
   ]
  },
  {
   "cell_type": "code",
   "execution_count": 55,
   "metadata": {
    "colab": {
     "base_uri": "https://localhost:8080/",
     "height": 34
    },
    "colab_type": "code",
    "id": "_Bb-gZCxjwu2",
    "outputId": "8fd8f80c-f5b2-4015-d58d-d1cf0d8034b4"
   },
   "outputs": [
    {
     "data": {
      "text/plain": [
       "0.33125"
      ]
     },
     "execution_count": 55,
     "metadata": {
      "tags": []
     },
     "output_type": "execute_result"
    }
   ],
   "source": [
    "org_accs = []\n",
    "for i in range(30):\n",
    "    # Fit model\n",
    "    X_train, X_test, y_train, y_test = train_test_split(features, labels, test_size=0.2)\n",
    "    clf=RandomForestClassifier(n_estimators = 150)\n",
    "    clf.fit(X_train, y_train)\n",
    "    # Compute train and test errors\n",
    "    y_train_pred = clf.predict(X_train)\n",
    "    y_test_pred = clf.predict(X_test)\n",
    "    org_accs.append(np.mean(y_test_pred == y_test))\n",
    "np.mean(org_accs)"
   ]
  },
  {
   "cell_type": "code",
   "execution_count": 56,
   "metadata": {
    "colab": {
     "base_uri": "https://localhost:8080/",
     "height": 204
    },
    "colab_type": "code",
    "id": "sGVMXY9W6KeD",
    "outputId": "9dbbc501-c8d1-4ee3-eec1-b48315119d2e"
   },
   "outputs": [
    {
     "data": {
      "text/plain": [
       "NP_001484    0.002882\n",
       "NP_001433    0.002823\n",
       "NP_659409    0.002692\n",
       "NP_705690    0.002339\n",
       "NP_055157    0.002326\n",
       "NP_001928    0.002269\n",
       "NP_002292    0.002237\n",
       "NP_006253    0.002225\n",
       "NP_005549    0.002168\n",
       "NP_002112    0.002139\n",
       "dtype: float64"
      ]
     },
     "execution_count": 56,
     "metadata": {
      "tags": []
     },
     "output_type": "execute_result"
    }
   ],
   "source": [
    "# Feature importances. Let's look at the top genes\n",
    "feature_imp = pd.Series(clf.feature_importances_,index = X_train.T.index)\n",
    "feature_imp.sort_values(ascending=False)[0:10]"
   ]
  },
  {
   "cell_type": "markdown",
   "metadata": {
    "colab_type": "text",
    "id": "5OtMNldvBj4z"
   },
   "source": [
    "### **Now we will try to improve our model**"
   ]
  },
  {
   "cell_type": "markdown",
   "metadata": {
    "colab_type": "text",
    "id": "FJaFmD8mjy8K"
   },
   "source": [
    "Keeping only important features (top 100)"
   ]
  },
  {
   "cell_type": "code",
   "execution_count": 57,
   "metadata": {
    "colab": {
     "base_uri": "https://localhost:8080/",
     "height": 34
    },
    "colab_type": "code",
    "id": "IEruqv4Ij3Rb",
    "outputId": "02fa1654-5fd1-44d8-c3af-74dfc54ae85b"
   },
   "outputs": [
    {
     "data": {
      "text/plain": [
       "0.4375"
      ]
     },
     "execution_count": 57,
     "metadata": {
      "tags": []
     },
     "output_type": "execute_result"
    }
   ],
   "source": [
    "few_features = features[feature_imp.sort_values(ascending=False)[0:100].index]\n",
    "few_accs = []\n",
    "for i in range(30):\n",
    "    # Fit model\n",
    "    X_train, X_test, y_train, y_test = train_test_split(few_features, labels, test_size=0.2)\n",
    "    clf=RandomForestClassifier(n_estimators = 150)\n",
    "    clf.fit(X_train, y_train)\n",
    "    # Compute train and test errors\n",
    "    y_train_pred = clf.predict(X_train)\n",
    "    y_test_pred = clf.predict(X_test)\n",
    "    few_accs.append(np.mean(y_test_pred == y_test))\n",
    "np.mean(few_accs)"
   ]
  },
  {
   "cell_type": "code",
   "execution_count": 58,
   "metadata": {
    "colab": {
     "base_uri": "https://localhost:8080/",
     "height": 204
    },
    "colab_type": "code",
    "id": "ML0xe003jm8u",
    "outputId": "25426487-0f42-4f6c-8fb9-75212464ff99"
   },
   "outputs": [
    {
     "data": {
      "text/html": [
       "<div>\n",
       "<style scoped>\n",
       "    .dataframe tbody tr th:only-of-type {\n",
       "        vertical-align: middle;\n",
       "    }\n",
       "\n",
       "    .dataframe tbody tr th {\n",
       "        vertical-align: top;\n",
       "    }\n",
       "\n",
       "    .dataframe thead th {\n",
       "        text-align: right;\n",
       "    }\n",
       "</style>\n",
       "<table border=\"1\" class=\"dataframe\">\n",
       "  <thead>\n",
       "    <tr style=\"text-align: right;\">\n",
       "      <th></th>\n",
       "      <th>Predicted</th>\n",
       "      <th>Actual</th>\n",
       "      <th>Mislabelled</th>\n",
       "    </tr>\n",
       "  </thead>\n",
       "  <tbody>\n",
       "    <tr>\n",
       "      <th>TCGA-AO-A0JJ</th>\n",
       "      <td>Stage IIB</td>\n",
       "      <td>Stage IIB</td>\n",
       "      <td>False</td>\n",
       "    </tr>\n",
       "    <tr>\n",
       "      <th>TCGA-AO-A12B</th>\n",
       "      <td>Stage IIA</td>\n",
       "      <td>Stage IIA</td>\n",
       "      <td>False</td>\n",
       "    </tr>\n",
       "    <tr>\n",
       "      <th>TCGA-AN-A04A</th>\n",
       "      <td>Stage IIA</td>\n",
       "      <td>Stage IIIA</td>\n",
       "      <td>True</td>\n",
       "    </tr>\n",
       "    <tr>\n",
       "      <th>TCGA-A2-A0SW</th>\n",
       "      <td>Stage IIB</td>\n",
       "      <td>Stage IV</td>\n",
       "      <td>True</td>\n",
       "    </tr>\n",
       "    <tr>\n",
       "      <th>TCGA-C8-A138</th>\n",
       "      <td>Stage IIA</td>\n",
       "      <td>Stage III</td>\n",
       "      <td>True</td>\n",
       "    </tr>\n",
       "  </tbody>\n",
       "</table>\n",
       "</div>"
      ],
      "text/plain": [
       "              Predicted      Actual  Mislabelled\n",
       "TCGA-AO-A0JJ  Stage IIB   Stage IIB        False\n",
       "TCGA-AO-A12B  Stage IIA   Stage IIA        False\n",
       "TCGA-AN-A04A  Stage IIA  Stage IIIA         True\n",
       "TCGA-A2-A0SW  Stage IIB    Stage IV         True\n",
       "TCGA-C8-A138  Stage IIA   Stage III         True"
      ]
     },
     "execution_count": 58,
     "metadata": {
      "tags": []
     },
     "output_type": "execute_result"
    }
   ],
   "source": [
    "X_train, X_test, y_train, y_test = train_test_split(few_features, labels, test_size=0.2)\n",
    "clf=RandomForestClassifier(n_estimators = 150)\n",
    "clf.fit(X_train, y_train)\n",
    "# Compute train and test errors\n",
    "y_train_pred = clf.predict(X_train)\n",
    "y_test_pred = clf.predict(X_test)\n",
    "results = pd.DataFrame({'Predicted':y_test_pred,'Actual':y_test,'Mislabelled':y_test_pred!=y_test})\n",
    "results.head()"
   ]
  },
  {
   "cell_type": "markdown",
   "metadata": {
    "colab_type": "text",
    "id": "IAgbkSYMLY0u"
   },
   "source": [
    "### Experiment 1: Testing on a few stages rather than all.\n",
    "\n",
    "Let's try just using Stage IIA and Stage IIB."
   ]
  },
  {
   "cell_type": "code",
   "execution_count": 59,
   "metadata": {
    "colab": {
     "base_uri": "https://localhost:8080/",
     "height": 221
    },
    "colab_type": "code",
    "id": "xkhbIkOpLZ8T",
    "outputId": "7066dcb7-ab92-4d7f-e7a6-cc2b03c1b805"
   },
   "outputs": [
    {
     "data": {
      "text/plain": [
       "Stage IIA     24\n",
       "Stage IIB     18\n",
       "Stage II       9\n",
       "Stage IIIA     7\n",
       "Stage IIIB     5\n",
       "Stage III      4\n",
       "Stage IIIC     4\n",
       "Stage IA       4\n",
       "Stage I        3\n",
       "Stage IV       1\n",
       "Stage IB       1\n",
       "Name: AJCC Stage, dtype: int64"
      ]
     },
     "execution_count": 59,
     "metadata": {
      "tags": []
     },
     "output_type": "execute_result"
    }
   ],
   "source": [
    "labels.value_counts()"
   ]
  },
  {
   "cell_type": "code",
   "execution_count": 0,
   "metadata": {
    "colab": {},
    "colab_type": "code",
    "id": "tZBFTnvtLdGr"
   },
   "outputs": [],
   "source": [
    "experiment_data = pd.concat([features,labels],axis=1)\n",
    "experiment_data = experiment_data[(experiment_data['AJCC Stage']=='Stage IIA') | (experiment_data['AJCC Stage']=='Stage IIB')]\n",
    "experiment_features = experiment_data[[col for col in data.columns if col not in clinical.columns]]\n",
    "experiment_labels = experiment_data['AJCC Stage']"
   ]
  },
  {
   "cell_type": "code",
   "execution_count": 61,
   "metadata": {
    "colab": {
     "base_uri": "https://localhost:8080/",
     "height": 34
    },
    "colab_type": "code",
    "id": "uB99yUh7LgFE",
    "outputId": "3bbb4535-57d0-4287-cef8-b4cfb4499e7a"
   },
   "outputs": [
    {
     "data": {
      "text/plain": [
       "0.7846153846153847"
      ]
     },
     "execution_count": 61,
     "metadata": {
      "tags": []
     },
     "output_type": "execute_result"
    }
   ],
   "source": [
    "exp1 = experiment_features[feature_imp.sort_values(ascending=False)[0:100].index]\n",
    "exp1_accs = []\n",
    "persons_incorrectly_classified = []\n",
    "for i in range(100):\n",
    "    # Fit model\n",
    "    X_train, X_test, y_train, y_test = train_test_split(exp1, experiment_labels, test_size=0.3)\n",
    "    clf=RandomForestClassifier(n_estimators = 150)\n",
    "    clf.fit(X_train, y_train)\n",
    "    # Compute train and test errors\n",
    "    y_train_pred = clf.predict(X_train)\n",
    "    y_test_pred = clf.predict(X_test)\n",
    "    exp1_accs.append(np.mean(y_test_pred == y_test))\n",
    "    results1 = pd.DataFrame({'Predicted':y_test_pred,'Actual':y_test,'correct_prediction':y_test_pred==y_test})\n",
    "    persons_incorrectly_classified.append(list(results1[results1.correct_prediction==False].index))\n",
    "np.mean(exp1_accs)"
   ]
  },
  {
   "cell_type": "code",
   "execution_count": 0,
   "metadata": {
    "colab": {},
    "colab_type": "code",
    "id": "XcmMwM-4Li3i"
   },
   "outputs": [],
   "source": [
    "X_train, X_test, y_train, y_test = train_test_split(exp1, experiment_labels, test_size=0.3)\n",
    "clf = RandomForestClassifier(n_estimators = 150)\n",
    "clf.fit(X_train, y_train)\n",
    "# Compute train and test errors\n",
    "y_train_pred = clf.predict(X_train)\n",
    "y_test_pred = clf.predict(X_test)\n",
    "results1 = pd.DataFrame({'Predicted':y_test_pred,'Actual':y_test,'correct_prediction':y_test_pred==y_test})"
   ]
  },
  {
   "cell_type": "code",
   "execution_count": 0,
   "metadata": {
    "colab": {},
    "colab_type": "code",
    "id": "oU_-DOMlPZBn"
   },
   "outputs": [],
   "source": [
    "import itertools\n",
    "people_incorrectly_classified = pd.DataFrame({'p':list(itertools.chain.from_iterable(persons_incorrectly_classified))})\n",
    "people_incorrectly_classified = pd.DataFrame({'num':people_incorrectly_classified.p.value_counts()})\n",
    "people_incorrectly_classified = people_incorrectly_classified[people_incorrectly_classified.num > 20]"
   ]
  },
  {
   "cell_type": "code",
   "execution_count": 64,
   "metadata": {
    "colab": {
     "base_uri": "https://localhost:8080/",
     "height": 298
    },
    "colab_type": "code",
    "id": "nwt5_5k5Q1P7",
    "outputId": "5c458e11-f9a2-424d-8922-877941778845"
   },
   "outputs": [
    {
     "data": {
      "text/plain": [
       "Text(0.5, 1.0, 'Number of missing entries in Incorrectly Classified People')"
      ]
     },
     "execution_count": 64,
     "metadata": {
      "tags": []
     },
     "output_type": "execute_result"
    },
    {
     "data": {
      "image/png": "[encoded data removed]",
      "text/plain": [
       "<Figure size 432x288 with 1 Axes>"
      ]
     },
     "metadata": {
      "tags": []
     },
     "output_type": "display_data"
    }
   ],
   "source": [
    "processed[processed.index.isin(people_incorrectly_classified.index)].isnull().sum(axis=1).hist();\n",
    "plt.title('Number of missing entries in Incorrectly Classified People')"
   ]
  },
  {
   "cell_type": "code",
   "execution_count": 65,
   "metadata": {
    "colab": {
     "base_uri": "https://localhost:8080/",
     "height": 298
    },
    "colab_type": "code",
    "id": "TFhC7bHMT3WO",
    "outputId": "472cabd9-5543-4177-d641-c099f46cb56c"
   },
   "outputs": [
    {
     "data": {
      "text/plain": [
       "Text(0.5, 1.0, 'Number of missing entries in Correctly Classified People')"
      ]
     },
     "execution_count": 65,
     "metadata": {
      "tags": []
     },
     "output_type": "execute_result"
    },
    {
     "data": {
      "image/png": "[encoded data removed]",
      "text/plain": [
       "<Figure size 432x288 with 1 Axes>"
      ]
     },
     "metadata": {
      "tags": []
     },
     "output_type": "display_data"
    }
   ],
   "source": [
    "everyone_else = pd.DataFrame({'num':processed[~processed.index.isin(people_incorrectly_classified.index)].isnull().sum(axis=1)})\n",
    "everyone_else.hist();\n",
    "plt.title('Number of missing entries in Correctly Classified People')"
   ]
  },
  {
   "cell_type": "code",
   "execution_count": 66,
   "metadata": {
    "colab": {
     "base_uri": "https://localhost:8080/",
     "height": 85
    },
    "colab_type": "code",
    "id": "YOPL_FHJLlPT",
    "outputId": "2215c99d-3d31-4230-aa22-a21915abfc1c"
   },
   "outputs": [
    {
     "data": {
      "text/plain": [
       "NP_079291    0.048794\n",
       "NP_006626    0.046848\n",
       "NP_940876    0.036425\n",
       "dtype: float64"
      ]
     },
     "execution_count": 66,
     "metadata": {
      "tags": []
     },
     "output_type": "execute_result"
    }
   ],
   "source": [
    "# Feature importances. Let's look at the top genes\n",
    "feature_imp1 = pd.Series(clf.feature_importances_,index = X_train.T.index)\n",
    "feature_imp1.sort_values(ascending=False)[0:3]"
   ]
  },
  {
   "cell_type": "markdown",
   "metadata": {
    "colab_type": "text",
    "id": "4s4cw59OM49b"
   },
   "source": [
    "**Exploring Correlations**"
   ]
  },
  {
   "cell_type": "code",
   "execution_count": 67,
   "metadata": {
    "colab": {
     "base_uri": "https://localhost:8080/",
     "height": 593
    },
    "colab_type": "code",
    "id": "co058czLM9Tc",
    "outputId": "3fdaf3f7-9e74-4048-87d1-317d74097d47"
   },
   "outputs": [
    {
     "data": {
      "image/png": "[encoded data removed]",
      "text/plain": [
       "<Figure size 720x720 with 2 Axes>"
      ]
     },
     "metadata": {
      "tags": []
     },
     "output_type": "display_data"
    }
   ],
   "source": [
    "import scipy\n",
    "\n",
    "corr = exp1.corr()\n",
    "f = plt.figure(figsize=(10,10))\n",
    "plt.matshow(corr, fignum=f.number)\n",
    "cb = plt.colorbar()\n",
    "plt.xlabel('Proteome #')\n",
    "plt.ylabel('Proteome #')\n",
    "plt.title('Correlation between Proteomes');"
   ]
  },
  {
   "cell_type": "markdown",
   "metadata": {
    "colab_type": "text",
    "id": "I-Se-zH4Ly-q"
   },
   "source": [
    "### Experiment 2: Normalized Features"
   ]
  },
  {
   "cell_type": "code",
   "execution_count": 68,
   "metadata": {
    "colab": {
     "base_uri": "https://localhost:8080/",
     "height": 34
    },
    "colab_type": "code",
    "id": "2uZGo8AFLyES",
    "outputId": "9990f2d3-7b1a-46ec-b02a-4a451bacde3e"
   },
   "outputs": [
    {
     "data": {
      "text/plain": [
       "0.375"
      ]
     },
     "execution_count": 68,
     "metadata": {
      "tags": []
     },
     "output_type": "execute_result"
    }
   ],
   "source": [
    "features_norm = features / features.sum() * features.sum().median()\n",
    "\n",
    "norm_accs = []\n",
    "for i in range(10):# Fit model\n",
    "    X_train, X_test, y_train, y_test = train_test_split(features_norm, labels, test_size=0.2)\n",
    "    clf=RandomForestClassifier(n_estimators = 150)\n",
    "    clf.fit(X_train, y_train)\n",
    "    # Compute train and test errors\n",
    "    y_train_pred = clf.predict(X_train)\n",
    "    y_test_pred = clf.predict(X_test)\n",
    "    norm_accs.append(np.mean(y_test_pred == y_test))\n",
    "np.mean(norm_accs)"
   ]
  },
  {
   "cell_type": "markdown",
   "metadata": {
    "colab_type": "text",
    "id": "0WRFbs7XL7At"
   },
   "source": [
    "### Experiment 3: Logistic Regression"
   ]
  },
  {
   "cell_type": "code",
   "execution_count": 0,
   "metadata": {
    "colab": {},
    "colab_type": "code",
    "id": "xBI9ZKnuL53h"
   },
   "outputs": [],
   "source": [
    "from sklearn.linear_model import LogisticRegression"
   ]
  },
  {
   "cell_type": "code",
   "execution_count": 70,
   "metadata": {
    "colab": {
     "base_uri": "https://localhost:8080/",
     "height": 34
    },
    "colab_type": "code",
    "id": "sj2jL5ZZMAmM",
    "outputId": "74b5b48d-ff05-422b-f452-45a3336cfd7b"
   },
   "outputs": [
    {
     "data": {
      "text/plain": [
       "0.7830769230769231"
      ]
     },
     "execution_count": 70,
     "metadata": {
      "tags": []
     },
     "output_type": "execute_result"
    }
   ],
   "source": [
    "exp2 = experiment_features[feature_imp.sort_values(ascending=False)[0:100].index]\n",
    "exp2_accs = []\n",
    "for i in range(100):\n",
    "    # Fit model\n",
    "    X_train, X_test, y_train, y_test = train_test_split(exp2, experiment_labels, test_size=0.3)\n",
    "    clf=LogisticRegression(solver = 'lbfgs')\n",
    "    clf.fit(X_train, y_train)\n",
    "    # Compute train and test errors\n",
    "    y_train_pred = clf.predict(X_train)\n",
    "    y_test_pred = clf.predict(X_test)\n",
    "    exp2_accs.append(np.mean(y_test_pred == y_test))\n",
    "np.mean(exp2_accs)"
   ]
  },
  {
   "cell_type": "markdown",
   "metadata": {
    "colab_type": "text",
    "id": "wXGQQsx86UHC"
   },
   "source": [
    "# Conclusion\n",
    "After we performed PCA on our dataset, the visualization that mapped the PC1 values against the PC2 values did not show a clear distinction between the cancer stages. Additionally, after performing t-SNE afterwards, the visualization of the first two Principal Components still did not show very clear visual distinctions between the different stages. It seems that after t-SNE, the data points are more evenly spread out than without, but it is difficult to make out different cancer stages in both visualizations. \n",
    "\n",
    "For fun, we performed a k-means clustering algorithm for the 11 cancer stages. We can see that the k-means clustering does not remotely resemble the previous visualizations and is definitely not perfect.\n",
    "\n",
    "From these visualizations, it seems as though the proteomes in our dataset might not be a good indicator of breast cancer stages. Perhaps more proteomes would be needed to draw a clearer correlation between certain proteomes and stages of breast cancer, or more patient samples.\n",
    "\n",
    "We found that it is much easier to classify fewer stages than it is to classify multiple. When we tried classifying all 11, we could only reach an accuracy around 40%, but when we switched to binary classification, we were able to get a 77% accuracy. Random Forest and Logistic Regression had around the same performance, but random forest took much longer, so for binary classification it would probably be best to stick with Logistic. We also found that normalizing the data actually decreased the accuracy (perhaps indicating that values have already been normalized). After looking into features that were used in our binary classifier, we found there wasn't an explicitly clear correlation between different proteomes. However, we did notice that the people who were incorrectly classified had more entries that were NaN than correctly classified, so this could indicate that imputing missing values with the mean is not enough."
   ]
  },
  {
   "cell_type": "markdown",
   "metadata": {
    "colab_type": "text",
    "id": "vMnvwqEmhuF-"
   },
   "source": [
    "# Credits:\n",
    "\n",
    "Dataset + Reshaping functions: https://www.kaggle.com/piotrgrabo/breastcancerproteomes\n",
    "\n",
    "The original study: http://www.nature.com/nature/journal/v534/n7605/full/nature18003.html"
   ]
  },
  {
   "cell_type": "code",
   "execution_count": 0,
   "metadata": {
    "colab": {},
    "colab_type": "code",
    "id": "n6b_6EB-h_Cn"
   },
   "outputs": [],
   "source": []
  }
 ],
 "metadata": {
  "colab": {
   "collapsed_sections": [],
   "name": "LS88 Project",
   "provenance": [],
   "toc_visible": true
  },
  "kernelspec": {
   "display_name": "Python 3",
   "language": "python",
   "name": "python3"
  },
  "language_info": {
   "codemirror_mode": {
    "name": "ipython",
    "version": 3
   },
   "file_extension": ".py",
   "mimetype": "text/x-python",
   "name": "python",
   "nbconvert_exporter": "python",
   "pygments_lexer": "ipython3",
   "version": "3.6.5"
  }
 },
 "nbformat": 4,
 "nbformat_minor": 1
}
